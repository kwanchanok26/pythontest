{
  "nbformat": 4,
  "nbformat_minor": 0,
  "metadata": {
    "colab": {
      "provenance": [],
      "authorship_tag": "ABX9TyPGEfu9uqWLHrBhseN0Ks+j",
      "include_colab_link": true
    },
    "kernelspec": {
      "name": "python3",
      "display_name": "Python 3"
    },
    "language_info": {
      "name": "python"
    }
  },
  "cells": [
    {
      "cell_type": "markdown",
      "metadata": {
        "id": "view-in-github",
        "colab_type": "text"
      },
      "source": [
        "<a href=\"https://colab.research.google.com/github/kwanchanok26/pythontest/blob/main/min_test_220523.ipynb\" target=\"_parent\"><img src=\"https://colab.research.google.com/assets/colab-badge.svg\" alt=\"Open In Colab\"/></a>"
      ]
    },
    {
      "cell_type": "code",
      "execution_count": 11,
      "metadata": {
        "colab": {
          "base_uri": "https://localhost:8080/"
        },
        "id": "BxIFsO-5uR2s",
        "outputId": "9d120fda-d04b-4b56-f9be-df83a44a1370"
      },
      "outputs": [
        {
          "output_type": "stream",
          "name": "stdout",
          "text": [
            "จำนวนที่1:.11\n",
            "จำนวนที่2:.22\n",
            "จำนวนที่3 :.88\n",
            "ค่าน้อยที่สุด คือ 11\n"
          ]
        }
      ],
      "source": [
        "a= int(input(\"จำนวนที่1:.\"))\n",
        "b= int(input(\"จำนวนที่2:.\"))\n",
        "c= int(input(\"จำนวนที่3 :.\"))\n",
        "m = a\n",
        "if(b<m):\n",
        "    m=b\n",
        "if(c<m):\n",
        "    m=c\n",
        "print(\"ค่าน้อยที่สุด คือ\",m)"
      ]
    }
  ]
}